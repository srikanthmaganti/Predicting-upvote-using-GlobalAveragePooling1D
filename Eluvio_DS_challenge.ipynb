{
  "nbformat": 4,
  "nbformat_minor": 0,
  "metadata": {
    "colab": {
      "name": "Eluvio_DS_challenge",
      "provenance": [],
      "collapsed_sections": []
    },
    "kernelspec": {
      "name": "python3",
      "display_name": "Python 3"
    }
  },
  "cells": [
    {
      "cell_type": "code",
      "metadata": {
        "id": "AzxRTu_ajVEX",
        "colab_type": "code",
        "outputId": "cff6cbcc-0d6c-41c1-a13a-315a106c0145",
        "colab": {
          "base_uri": "https://localhost:8080/",
          "height": 35
        }
      },
      "source": [
        "from google.colab import drive\n",
        "drive.mount('/content/drive')"
      ],
      "execution_count": 0,
      "outputs": [
        {
          "output_type": "stream",
          "text": [
            "Drive already mounted at /content/drive; to attempt to forcibly remount, call drive.mount(\"/content/drive\", force_remount=True).\n"
          ],
          "name": "stdout"
        }
      ]
    },
    {
      "cell_type": "markdown",
      "metadata": {
        "id": "c_5-BX96CORQ",
        "colab_type": "text"
      },
      "source": [
        "**Import all the necessary packages**"
      ]
    },
    {
      "cell_type": "code",
      "metadata": {
        "id": "L60LK3hxjbzG",
        "colab_type": "code",
        "outputId": "4b839c4d-d4ea-47ff-9120-0922734246da",
        "colab": {
          "base_uri": "https://localhost:8080/",
          "height": 52
        }
      },
      "source": [
        "import numpy as np\n",
        "import pandas as pd\n",
        "from nltk.corpus import stopwords\n",
        "import string\n",
        "import nltk\n",
        "nltk.download('stopwords')\n",
        "from nltk.tokenize import RegexpTokenizer\n",
        "import re\n",
        "import pickle\n",
        "from random import random, sample, seed\n",
        "from sklearn.preprocessing import LabelEncoder\n",
        "import matplotlib.pyplot as plt"
      ],
      "execution_count": 43,
      "outputs": [
        {
          "output_type": "stream",
          "text": [
            "[nltk_data] Downloading package stopwords to /root/nltk_data...\n",
            "[nltk_data]   Package stopwords is already up-to-date!\n"
          ],
          "name": "stdout"
        }
      ]
    },
    {
      "cell_type": "code",
      "metadata": {
        "id": "-G85-wiik-e1",
        "colab_type": "code",
        "colab": {}
      },
      "source": [
        "file = \"drive/My Drive/Eluvio/Eluvio_DS_Challenge.csv\"\n",
        "df = pd.read_csv(file, sep = ',', parse_dates= ['date_created'],encoding='utf-8-sig') "
      ],
      "execution_count": 0,
      "outputs": []
    },
    {
      "cell_type": "markdown",
      "metadata": {
        "id": "efM6B-H1CY06",
        "colab_type": "text"
      },
      "source": [
        "**Create new columns which are necessary**"
      ]
    },
    {
      "cell_type": "code",
      "metadata": {
        "id": "kQkNTFMLlC8G",
        "colab_type": "code",
        "colab": {}
      },
      "source": [
        "df['day_of_week'] = df['date_created'].dt.dayofweek\n",
        "df['year'] = pd.DatetimeIndex(df['date_created']).year\n",
        "df['month'] = pd.DatetimeIndex(df['date_created']).month\n",
        "df['day'] = pd.DatetimeIndex(df['date_created']).dayofyear\n",
        "df['time_created'] = pd.to_datetime(df['time_created'], unit='s')\n",
        "df['hours'] = pd.DatetimeIndex(df['time_created']).hour"
      ],
      "execution_count": 0,
      "outputs": []
    },
    {
      "cell_type": "markdown",
      "metadata": {
        "id": "SXITwca8CtbD",
        "colab_type": "text"
      },
      "source": [
        "**Check the values**"
      ]
    },
    {
      "cell_type": "code",
      "metadata": {
        "id": "FTIPbrzTlWaX",
        "colab_type": "code",
        "outputId": "005afd9f-6a87-492a-a100-15e38337c5aa",
        "colab": {
          "base_uri": "https://localhost:8080/",
          "height": 203
        }
      },
      "source": [
        "df.head()"
      ],
      "execution_count": 0,
      "outputs": [
        {
          "output_type": "execute_result",
          "data": {
            "text/html": [
              "<div>\n",
              "<style scoped>\n",
              "    .dataframe tbody tr th:only-of-type {\n",
              "        vertical-align: middle;\n",
              "    }\n",
              "\n",
              "    .dataframe tbody tr th {\n",
              "        vertical-align: top;\n",
              "    }\n",
              "\n",
              "    .dataframe thead th {\n",
              "        text-align: right;\n",
              "    }\n",
              "</style>\n",
              "<table border=\"1\" class=\"dataframe\">\n",
              "  <thead>\n",
              "    <tr style=\"text-align: right;\">\n",
              "      <th></th>\n",
              "      <th>time_created</th>\n",
              "      <th>date_created</th>\n",
              "      <th>up_votes</th>\n",
              "      <th>down_votes</th>\n",
              "      <th>title</th>\n",
              "      <th>over_18</th>\n",
              "      <th>author</th>\n",
              "      <th>category</th>\n",
              "      <th>day_of_week</th>\n",
              "      <th>year</th>\n",
              "      <th>month</th>\n",
              "      <th>day</th>\n",
              "      <th>hours</th>\n",
              "    </tr>\n",
              "  </thead>\n",
              "  <tbody>\n",
              "    <tr>\n",
              "      <th>0</th>\n",
              "      <td>2008-01-25 03:34:06</td>\n",
              "      <td>2008-01-25</td>\n",
              "      <td>3</td>\n",
              "      <td>0</td>\n",
              "      <td>Scores killed in Pakistan clashes</td>\n",
              "      <td>False</td>\n",
              "      <td>polar</td>\n",
              "      <td>worldnews</td>\n",
              "      <td>4</td>\n",
              "      <td>2008</td>\n",
              "      <td>1</td>\n",
              "      <td>25</td>\n",
              "      <td>3</td>\n",
              "    </tr>\n",
              "    <tr>\n",
              "      <th>1</th>\n",
              "      <td>2008-01-25 03:34:35</td>\n",
              "      <td>2008-01-25</td>\n",
              "      <td>2</td>\n",
              "      <td>0</td>\n",
              "      <td>Japan resumes refuelling mission</td>\n",
              "      <td>False</td>\n",
              "      <td>polar</td>\n",
              "      <td>worldnews</td>\n",
              "      <td>4</td>\n",
              "      <td>2008</td>\n",
              "      <td>1</td>\n",
              "      <td>25</td>\n",
              "      <td>3</td>\n",
              "    </tr>\n",
              "    <tr>\n",
              "      <th>2</th>\n",
              "      <td>2008-01-25 03:42:03</td>\n",
              "      <td>2008-01-25</td>\n",
              "      <td>3</td>\n",
              "      <td>0</td>\n",
              "      <td>US presses Egypt on Gaza border</td>\n",
              "      <td>False</td>\n",
              "      <td>polar</td>\n",
              "      <td>worldnews</td>\n",
              "      <td>4</td>\n",
              "      <td>2008</td>\n",
              "      <td>1</td>\n",
              "      <td>25</td>\n",
              "      <td>3</td>\n",
              "    </tr>\n",
              "    <tr>\n",
              "      <th>3</th>\n",
              "      <td>2008-01-25 03:54:50</td>\n",
              "      <td>2008-01-25</td>\n",
              "      <td>1</td>\n",
              "      <td>0</td>\n",
              "      <td>Jump-start economy: Give health care to all</td>\n",
              "      <td>False</td>\n",
              "      <td>fadi420</td>\n",
              "      <td>worldnews</td>\n",
              "      <td>4</td>\n",
              "      <td>2008</td>\n",
              "      <td>1</td>\n",
              "      <td>25</td>\n",
              "      <td>3</td>\n",
              "    </tr>\n",
              "    <tr>\n",
              "      <th>4</th>\n",
              "      <td>2008-01-25 15:25:20</td>\n",
              "      <td>2008-01-25</td>\n",
              "      <td>4</td>\n",
              "      <td>0</td>\n",
              "      <td>Council of Europe bashes EU&amp;UN terror blacklist</td>\n",
              "      <td>False</td>\n",
              "      <td>mhermans</td>\n",
              "      <td>worldnews</td>\n",
              "      <td>4</td>\n",
              "      <td>2008</td>\n",
              "      <td>1</td>\n",
              "      <td>25</td>\n",
              "      <td>15</td>\n",
              "    </tr>\n",
              "  </tbody>\n",
              "</table>\n",
              "</div>"
            ],
            "text/plain": [
              "         time_created date_created  up_votes  ...  month day  hours\n",
              "0 2008-01-25 03:34:06   2008-01-25         3  ...      1  25      3\n",
              "1 2008-01-25 03:34:35   2008-01-25         2  ...      1  25      3\n",
              "2 2008-01-25 03:42:03   2008-01-25         3  ...      1  25      3\n",
              "3 2008-01-25 03:54:50   2008-01-25         1  ...      1  25      3\n",
              "4 2008-01-25 15:25:20   2008-01-25         4  ...      1  25     15\n",
              "\n",
              "[5 rows x 13 columns]"
            ]
          },
          "metadata": {
            "tags": []
          },
          "execution_count": 8
        }
      ]
    },
    {
      "cell_type": "code",
      "metadata": {
        "id": "j1kUhHF-0uN1",
        "colab_type": "code",
        "outputId": "59cf3fef-2108-4fe7-95a9-540916fb36c2",
        "colab": {
          "base_uri": "https://localhost:8080/",
          "height": 35
        }
      },
      "source": [
        "len(df)"
      ],
      "execution_count": 0,
      "outputs": [
        {
          "output_type": "execute_result",
          "data": {
            "text/plain": [
              "509236"
            ]
          },
          "metadata": {
            "tags": []
          },
          "execution_count": 9
        }
      ]
    },
    {
      "cell_type": "markdown",
      "metadata": {
        "id": "FsANn4KQDHA5",
        "colab_type": "text"
      },
      "source": [
        "**Drop unnecessary columns**\n"
      ]
    },
    {
      "cell_type": "code",
      "metadata": {
        "id": "9g0mqamdlaSO",
        "colab_type": "code",
        "colab": {}
      },
      "source": [
        "df = df.drop(\"category\", axis = 1)\n",
        "df = df.drop(\"down_votes\", axis = 1)\n",
        "df = df.drop(\"time_created\", axis = 1)\n",
        "df = df.drop(\"date_created\", axis = 1)\n",
        "df=df.drop('over_18',axis=1)"
      ],
      "execution_count": 0,
      "outputs": []
    },
    {
      "cell_type": "markdown",
      "metadata": {
        "id": "36eP5DGQDRkd",
        "colab_type": "text"
      },
      "source": [
        "**Set up the threshold value. So that we can classify above points as 1 and below as 0**"
      ]
    },
    {
      "cell_type": "code",
      "metadata": {
        "id": "isiVixgbvrmC",
        "colab_type": "code",
        "colab": {}
      },
      "source": [
        "threshold = np.quantile(df['up_votes'], 0.6)\n",
        "is_top_submission = [1 if i > threshold else 0 for i in df['up_votes']]\n",
        "is_top_submission = np.array(is_top_submission)"
      ],
      "execution_count": 0,
      "outputs": []
    },
    {
      "cell_type": "code",
      "metadata": {
        "id": "9jTC8DA2Pb0p",
        "colab_type": "code",
        "colab": {}
      },
      "source": [
        "labelencoder = LabelEncoder()\n",
        "df['author'] = labelencoder.fit_transform(df['author'])"
      ],
      "execution_count": 0,
      "outputs": []
    },
    {
      "cell_type": "code",
      "metadata": {
        "id": "cpFq4TTeQcTs",
        "colab_type": "code",
        "outputId": "2b5bb427-ed89-40a2-98c8-4dc2fc1deb39",
        "colab": {
          "base_uri": "https://localhost:8080/",
          "height": 203
        }
      },
      "source": [
        "df.head()"
      ],
      "execution_count": 0,
      "outputs": [
        {
          "output_type": "execute_result",
          "data": {
            "text/html": [
              "<div>\n",
              "<style scoped>\n",
              "    .dataframe tbody tr th:only-of-type {\n",
              "        vertical-align: middle;\n",
              "    }\n",
              "\n",
              "    .dataframe tbody tr th {\n",
              "        vertical-align: top;\n",
              "    }\n",
              "\n",
              "    .dataframe thead th {\n",
              "        text-align: right;\n",
              "    }\n",
              "</style>\n",
              "<table border=\"1\" class=\"dataframe\">\n",
              "  <thead>\n",
              "    <tr style=\"text-align: right;\">\n",
              "      <th></th>\n",
              "      <th>up_votes</th>\n",
              "      <th>title</th>\n",
              "      <th>author</th>\n",
              "      <th>day_of_week</th>\n",
              "      <th>year</th>\n",
              "      <th>month</th>\n",
              "      <th>day</th>\n",
              "      <th>hours</th>\n",
              "    </tr>\n",
              "  </thead>\n",
              "  <tbody>\n",
              "    <tr>\n",
              "      <th>0</th>\n",
              "      <td>3</td>\n",
              "      <td>Scores killed in Pakistan clashes</td>\n",
              "      <td>69315</td>\n",
              "      <td>4</td>\n",
              "      <td>2008</td>\n",
              "      <td>1</td>\n",
              "      <td>25</td>\n",
              "      <td>3</td>\n",
              "    </tr>\n",
              "    <tr>\n",
              "      <th>1</th>\n",
              "      <td>2</td>\n",
              "      <td>Japan resumes refuelling mission</td>\n",
              "      <td>69315</td>\n",
              "      <td>4</td>\n",
              "      <td>2008</td>\n",
              "      <td>1</td>\n",
              "      <td>25</td>\n",
              "      <td>3</td>\n",
              "    </tr>\n",
              "    <tr>\n",
              "      <th>2</th>\n",
              "      <td>3</td>\n",
              "      <td>US presses Egypt on Gaza border</td>\n",
              "      <td>69315</td>\n",
              "      <td>4</td>\n",
              "      <td>2008</td>\n",
              "      <td>1</td>\n",
              "      <td>25</td>\n",
              "      <td>3</td>\n",
              "    </tr>\n",
              "    <tr>\n",
              "      <th>3</th>\n",
              "      <td>1</td>\n",
              "      <td>Jump-start economy: Give health care to all</td>\n",
              "      <td>47884</td>\n",
              "      <td>4</td>\n",
              "      <td>2008</td>\n",
              "      <td>1</td>\n",
              "      <td>25</td>\n",
              "      <td>3</td>\n",
              "    </tr>\n",
              "    <tr>\n",
              "      <th>4</th>\n",
              "      <td>4</td>\n",
              "      <td>Council of Europe bashes EU&amp;UN terror blacklist</td>\n",
              "      <td>62766</td>\n",
              "      <td>4</td>\n",
              "      <td>2008</td>\n",
              "      <td>1</td>\n",
              "      <td>25</td>\n",
              "      <td>15</td>\n",
              "    </tr>\n",
              "  </tbody>\n",
              "</table>\n",
              "</div>"
            ],
            "text/plain": [
              "   up_votes                                            title  ...  day  hours\n",
              "0         3                Scores killed in Pakistan clashes  ...   25      3\n",
              "1         2                 Japan resumes refuelling mission  ...   25      3\n",
              "2         3                  US presses Egypt on Gaza border  ...   25      3\n",
              "3         1     Jump-start economy: Give health care to all   ...   25      3\n",
              "4         4  Council of Europe bashes EU&UN terror blacklist  ...   25     15\n",
              "\n",
              "[5 rows x 8 columns]"
            ]
          },
          "metadata": {
            "tags": []
          },
          "execution_count": 13
        }
      ]
    },
    {
      "cell_type": "code",
      "metadata": {
        "id": "eiQlK3TS0auk",
        "colab_type": "code",
        "outputId": "b6745a2e-eab3-45b8-e5ea-5947c4ef7120",
        "colab": {
          "base_uri": "https://localhost:8080/",
          "height": 35
        }
      },
      "source": [
        "df['author'].nunique()"
      ],
      "execution_count": 0,
      "outputs": [
        {
          "output_type": "execute_result",
          "data": {
            "text/plain": [
              "85838"
            ]
          },
          "metadata": {
            "tags": []
          },
          "execution_count": 14
        }
      ]
    },
    {
      "cell_type": "markdown",
      "metadata": {
        "id": "dEYr0Z7FEEGm",
        "colab_type": "text"
      },
      "source": [
        "**Preprocessing the data**"
      ]
    },
    {
      "cell_type": "code",
      "metadata": {
        "id": "8rLli8HAlkW3",
        "colab_type": "code",
        "colab": {}
      },
      "source": [
        "def remove_punctuation(x):\n",
        "  no_punct=\"\".join([c for c in x if c not in string.punctuation])\n",
        "  return no_punct"
      ],
      "execution_count": 0,
      "outputs": []
    },
    {
      "cell_type": "code",
      "metadata": {
        "id": "Zpp-35YnmHwM",
        "colab_type": "code",
        "colab": {}
      },
      "source": [
        "df['title']=df['title'].apply(lambda x:remove_punctuation(x))\n",
        "tokenizer=RegexpTokenizer(r'\\w+')\n",
        "df[\"title\"]=df[\"title\"].apply(lambda x:tokenizer.tokenize(x.lower()))"
      ],
      "execution_count": 0,
      "outputs": []
    },
    {
      "cell_type": "code",
      "metadata": {
        "id": "YOhI_WvkmTBw",
        "colab_type": "code",
        "colab": {}
      },
      "source": [
        "listoftexts,listwords=[],[]\n",
        "for line in df['title']:\n",
        "        #exclude = set(string.punctuation)\n",
        "        #line = ''.join(ch for ch in line if ch not in exclude)\n",
        "        listwords=[]\n",
        "        for word in line:\n",
        "            listwords.append(word)\n",
        "        listoftexts.append(listwords)"
      ],
      "execution_count": 0,
      "outputs": []
    },
    {
      "cell_type": "markdown",
      "metadata": {
        "id": "msPRUoY2ELZV",
        "colab_type": "text"
      },
      "source": [
        "**Converting dataframe values to listvalues**"
      ]
    },
    {
      "cell_type": "code",
      "metadata": {
        "id": "sc1opsLYtENF",
        "colab_type": "code",
        "colab": {}
      },
      "source": [
        "\n",
        "dayofweeks =df['day_of_week'].values.tolist()\n",
        "dayofyears = df['day'].values.tolist()\n",
        "hours=df['hours'].values.tolist()\n",
        "authors=df['author'].values.tolist()\n",
        "            \n",
        "hours = np.array(hours, dtype=int)\n",
        "dayofweeks = np.array(dayofweeks, dtype=int)\n",
        "dayofyears = np.array(dayofyears, dtype=int)\n",
        "is_top_submission = np.array(is_top_submission, dtype=int)\n",
        "authors=np.array(authors,dtype=int)"
      ],
      "execution_count": 0,
      "outputs": []
    },
    {
      "cell_type": "code",
      "metadata": {
        "id": "vMzQueVQeJV5",
        "colab_type": "code",
        "outputId": "9a7cb488-7f4b-4711-afe8-b27dd9d5165b",
        "colab": {
          "base_uri": "https://localhost:8080/",
          "height": 203
        }
      },
      "source": [
        "df.head()"
      ],
      "execution_count": 0,
      "outputs": [
        {
          "output_type": "execute_result",
          "data": {
            "text/html": [
              "<div>\n",
              "<style scoped>\n",
              "    .dataframe tbody tr th:only-of-type {\n",
              "        vertical-align: middle;\n",
              "    }\n",
              "\n",
              "    .dataframe tbody tr th {\n",
              "        vertical-align: top;\n",
              "    }\n",
              "\n",
              "    .dataframe thead th {\n",
              "        text-align: right;\n",
              "    }\n",
              "</style>\n",
              "<table border=\"1\" class=\"dataframe\">\n",
              "  <thead>\n",
              "    <tr style=\"text-align: right;\">\n",
              "      <th></th>\n",
              "      <th>up_votes</th>\n",
              "      <th>title</th>\n",
              "      <th>author</th>\n",
              "      <th>day_of_week</th>\n",
              "      <th>year</th>\n",
              "      <th>month</th>\n",
              "      <th>day</th>\n",
              "      <th>hours</th>\n",
              "    </tr>\n",
              "  </thead>\n",
              "  <tbody>\n",
              "    <tr>\n",
              "      <th>0</th>\n",
              "      <td>3</td>\n",
              "      <td>[scores, killed, in, pakistan, clashes]</td>\n",
              "      <td>69315</td>\n",
              "      <td>4</td>\n",
              "      <td>2008</td>\n",
              "      <td>1</td>\n",
              "      <td>25</td>\n",
              "      <td>3</td>\n",
              "    </tr>\n",
              "    <tr>\n",
              "      <th>1</th>\n",
              "      <td>2</td>\n",
              "      <td>[japan, resumes, refuelling, mission]</td>\n",
              "      <td>69315</td>\n",
              "      <td>4</td>\n",
              "      <td>2008</td>\n",
              "      <td>1</td>\n",
              "      <td>25</td>\n",
              "      <td>3</td>\n",
              "    </tr>\n",
              "    <tr>\n",
              "      <th>2</th>\n",
              "      <td>3</td>\n",
              "      <td>[us, presses, egypt, on, gaza, border]</td>\n",
              "      <td>69315</td>\n",
              "      <td>4</td>\n",
              "      <td>2008</td>\n",
              "      <td>1</td>\n",
              "      <td>25</td>\n",
              "      <td>3</td>\n",
              "    </tr>\n",
              "    <tr>\n",
              "      <th>3</th>\n",
              "      <td>1</td>\n",
              "      <td>[jumpstart, economy, give, health, care, to, all]</td>\n",
              "      <td>47884</td>\n",
              "      <td>4</td>\n",
              "      <td>2008</td>\n",
              "      <td>1</td>\n",
              "      <td>25</td>\n",
              "      <td>3</td>\n",
              "    </tr>\n",
              "    <tr>\n",
              "      <th>4</th>\n",
              "      <td>4</td>\n",
              "      <td>[council, of, europe, bashes, euun, terror, bl...</td>\n",
              "      <td>62766</td>\n",
              "      <td>4</td>\n",
              "      <td>2008</td>\n",
              "      <td>1</td>\n",
              "      <td>25</td>\n",
              "      <td>15</td>\n",
              "    </tr>\n",
              "  </tbody>\n",
              "</table>\n",
              "</div>"
            ],
            "text/plain": [
              "   up_votes                                              title  ...  day  hours\n",
              "0         3            [scores, killed, in, pakistan, clashes]  ...   25      3\n",
              "1         2              [japan, resumes, refuelling, mission]  ...   25      3\n",
              "2         3             [us, presses, egypt, on, gaza, border]  ...   25      3\n",
              "3         1  [jumpstart, economy, give, health, care, to, all]  ...   25      3\n",
              "4         4  [council, of, europe, bashes, euun, terror, bl...  ...   25     15\n",
              "\n",
              "[5 rows x 8 columns]"
            ]
          },
          "metadata": {
            "tags": []
          },
          "execution_count": 19
        }
      ]
    },
    {
      "cell_type": "markdown",
      "metadata": {
        "id": "n6jP2kNPEVSS",
        "colab_type": "text"
      },
      "source": [
        "**Creating Word Embeddings**"
      ]
    },
    {
      "cell_type": "code",
      "metadata": {
        "id": "UYHcImtomdXu",
        "colab_type": "code",
        "outputId": "60c864ba-e302-4412-f6f9-7c7b4a045aef",
        "colab": {
          "base_uri": "https://localhost:8080/",
          "height": 35
        }
      },
      "source": [
        "from keras.preprocessing.text import Tokenizer\n",
        "from keras.preprocessing.sequence import pad_sequences\n",
        "\n",
        "tokenizer = Tokenizer()\n",
        "tokenizer.fit_on_texts(listoftexts)\n",
        "sequences = tokenizer.texts_to_sequences(listoftexts)\n",
        "\n",
        "word_index = tokenizer.word_index\n",
        "print('Found %s unique tokens.' % len(word_index))\n",
        "\n",
        "data = pad_sequences(sequences)"
      ],
      "execution_count": 0,
      "outputs": [
        {
          "output_type": "stream",
          "text": [
            "Found 114097 unique tokens.\n"
          ],
          "name": "stdout"
        }
      ]
    },
    {
      "cell_type": "code",
      "metadata": {
        "id": "bU6ooPWQ4rsT",
        "colab_type": "code",
        "colab": {}
      },
      "source": [
        "#!wget http://nlp.stanford.edu/data/glove.6B.zip"
      ],
      "execution_count": 0,
      "outputs": []
    },
    {
      "cell_type": "code",
      "metadata": {
        "id": "4cyGMoXL61ef",
        "colab_type": "code",
        "colab": {}
      },
      "source": [
        "#!unzip glove*.zip"
      ],
      "execution_count": 0,
      "outputs": []
    },
    {
      "cell_type": "code",
      "metadata": {
        "id": "sAsH--BR68fU",
        "colab_type": "code",
        "outputId": "b9463707-c304-4e9a-b4b0-412ff4bc9174",
        "colab": {
          "base_uri": "https://localhost:8080/",
          "height": 70
        }
      },
      "source": [
        "!ls\n",
        "!pwd"
      ],
      "execution_count": 0,
      "outputs": [
        {
          "output_type": "stream",
          "text": [
            "adc.json  glove.6B.100d.txt  glove.6B.300d.txt\tglove.6B.zip  training.csv\n",
            "drive\t  glove.6B.200d.txt  glove.6B.50d.txt\tsample_data\n",
            "/content\n"
          ],
          "name": "stdout"
        }
      ]
    },
    {
      "cell_type": "code",
      "metadata": {
        "id": "3wdOCJ8U7ZLU",
        "colab_type": "code",
        "outputId": "9f8721e5-09d7-40ba-faf8-d6e226d73e3e",
        "colab": {
          "base_uri": "https://localhost:8080/",
          "height": 35
        }
      },
      "source": [
        "embeddings_index = {}\n",
        "f = open(r'glove.6B.300d.txt',encoding='utf8')\n",
        "for line in f:\n",
        "    values = line.split()\n",
        "    word = values[0]\n",
        "    coefs = np.asarray(values[1:], dtype='float32')\n",
        "    embeddings_index[word] = coefs\n",
        "f.close()\n",
        "\n",
        "print('Found %s word vectors.' % len(embeddings_index))"
      ],
      "execution_count": 0,
      "outputs": [
        {
          "output_type": "stream",
          "text": [
            "Found 400000 word vectors.\n"
          ],
          "name": "stdout"
        }
      ]
    },
    {
      "cell_type": "code",
      "metadata": {
        "id": "UEcR8h5KnrAL",
        "colab_type": "code",
        "colab": {}
      },
      "source": [
        "embedding_matrix = np.zeros((len(word_index) + 1, 300))\n",
        "for word, i in word_index.items():\n",
        "    embedding_vector = embeddings_index.get(word)\n",
        "    if embedding_vector is not None:\n",
        "        # words not found in embedding index will be all-zeros.\n",
        "        embedding_matrix[i] = embedding_vector"
      ],
      "execution_count": 0,
      "outputs": []
    },
    {
      "cell_type": "code",
      "metadata": {
        "id": "j0CHBnVRmgXi",
        "colab_type": "code",
        "outputId": "101b79e4-e23b-46b0-8e2b-0fd6c1675a33",
        "colab": {
          "base_uri": "https://localhost:8080/",
          "height": 55
        }
      },
      "source": [
        "\"\"\"!pip install --upgrade pip\n",
        "!pip install -U -q pydrive\n",
        "!apt-get install -y -qq software-properties-common python-software-properties module-init-tools\n",
        "!add-apt-repository -y ppa:alessandro-strada/ppa 2>&1 > /dev/null\n",
        "!apt-get update -qq 2>&1 > /dev/null\n",
        "\n",
        "!apt-get -y install -qq google-drive-ocamlfuse fuse\n",
        "\n",
        "from google.colab import auth\n",
        "auth.authenticate_user()\n",
        "# Generate creds for the Drive FUSE library.\n",
        "from oauth2client.client import GoogleCredentials\n",
        "creds = GoogleCredentials.get_application_default()\n",
        "import getpass\n",
        "!google-drive-ocamlfuse -headless -id={creds.client_id} -secret={creds.client_secret} < /dev/null 2>&1 | grep URL\n",
        "vcode = getpass.getpass()\n",
        "!echo {vcode} | google-drive-ocamlfuse -headless -id={creds.client_id} -secret={creds.client_secret}\n",
        "\n",
        "!mkdir -p drive\n",
        "!google-drive-ocamlfuse drive\"\"\""
      ],
      "execution_count": 0,
      "outputs": [
        {
          "output_type": "execute_result",
          "data": {
            "text/plain": [
              "'!pip install --upgrade pip\\n!pip install -U -q pydrive\\n!apt-get install -y -qq software-properties-common python-software-properties module-init-tools\\n!add-apt-repository -y ppa:alessandro-strada/ppa 2>&1 > /dev/null\\n!apt-get update -qq 2>&1 > /dev/null\\n\\n!apt-get -y install -qq google-drive-ocamlfuse fuse\\n\\nfrom google.colab import auth\\nauth.authenticate_user()\\n# Generate creds for the Drive FUSE library.\\nfrom oauth2client.client import GoogleCredentials\\ncreds = GoogleCredentials.get_application_default()\\nimport getpass\\n!google-drive-ocamlfuse -headless -id={creds.client_id} -secret={creds.client_secret} < /dev/null 2>&1 | grep URL\\nvcode = getpass.getpass()\\n!echo {vcode} | google-drive-ocamlfuse -headless -id={creds.client_id} -secret={creds.client_secret}\\n\\n!mkdir -p drive\\n!google-drive-ocamlfuse drive'"
            ]
          },
          "metadata": {
            "tags": []
          },
          "execution_count": 26
        }
      ]
    },
    {
      "cell_type": "code",
      "metadata": {
        "id": "5HhS9ixamwej",
        "colab_type": "code",
        "colab": {}
      },
      "source": [
        "pickle.dump({'embeddings_index' : embeddings_index} , open('sample_data/content', 'wb'))"
      ],
      "execution_count": 0,
      "outputs": []
    },
    {
      "cell_type": "markdown",
      "metadata": {
        "id": "uqBUOfhNEsjz",
        "colab_type": "text"
      },
      "source": [
        "**Building the model**"
      ]
    },
    {
      "cell_type": "code",
      "metadata": {
        "id": "wMkowaskoNP6",
        "colab_type": "code",
        "colab": {}
      },
      "source": [
        "from keras.models import Input, Model\n",
        "from keras.layers import Dense, Embedding, GlobalAveragePooling1D, concatenate, Activation\n",
        "from keras.layers.core import Masking, Dropout, Reshape\n",
        "from keras.layers.normalization import BatchNormalization\n",
        "from keras import optimizers"
      ],
      "execution_count": 0,
      "outputs": []
    },
    {
      "cell_type": "markdown",
      "metadata": {
        "id": "adQvqWNRFPNq",
        "colab_type": "text"
      },
      "source": [
        "**Main branch**"
      ]
    },
    {
      "cell_type": "code",
      "metadata": {
        "id": "3MPczlEdq7Ja",
        "colab_type": "code",
        "outputId": "5d756b5d-e6b4-4a80-cb5f-513cfdbd1674",
        "colab": {
          "base_uri": "https://localhost:8080/",
          "height": 319
        }
      },
      "source": [
        "titles_input = Input(shape=(63,), name='titles_input')\n",
        "titles_embedding = Embedding(len(word_index) + 1, 300, weights=[embedding_matrix])(titles_input)\n",
        "titles_pooling = GlobalAveragePooling1D()(titles_embedding)"
      ],
      "execution_count": 0,
      "outputs": [
        {
          "output_type": "stream",
          "text": [
            "WARNING:tensorflow:From /usr/local/lib/python3.6/dist-packages/keras/backend/tensorflow_backend.py:66: The name tf.get_default_graph is deprecated. Please use tf.compat.v1.get_default_graph instead.\n",
            "\n",
            "WARNING:tensorflow:From /usr/local/lib/python3.6/dist-packages/keras/backend/tensorflow_backend.py:4432: The name tf.random_uniform is deprecated. Please use tf.random.uniform instead.\n",
            "\n",
            "WARNING:tensorflow:From /usr/local/lib/python3.6/dist-packages/keras/backend/tensorflow_backend.py:190: The name tf.get_default_session is deprecated. Please use tf.compat.v1.get_default_session instead.\n",
            "\n",
            "WARNING:tensorflow:From /usr/local/lib/python3.6/dist-packages/keras/backend/tensorflow_backend.py:197: The name tf.ConfigProto is deprecated. Please use tf.compat.v1.ConfigProto instead.\n",
            "\n",
            "WARNING:tensorflow:From /usr/local/lib/python3.6/dist-packages/keras/backend/tensorflow_backend.py:203: The name tf.Session is deprecated. Please use tf.compat.v1.Session instead.\n",
            "\n",
            "WARNING:tensorflow:From /usr/local/lib/python3.6/dist-packages/keras/backend/tensorflow_backend.py:207: The name tf.global_variables is deprecated. Please use tf.compat.v1.global_variables instead.\n",
            "\n",
            "WARNING:tensorflow:From /usr/local/lib/python3.6/dist-packages/keras/backend/tensorflow_backend.py:216: The name tf.is_variable_initialized is deprecated. Please use tf.compat.v1.is_variable_initialized instead.\n",
            "\n",
            "WARNING:tensorflow:From /usr/local/lib/python3.6/dist-packages/keras/backend/tensorflow_backend.py:223: The name tf.variables_initializer is deprecated. Please use tf.compat.v1.variables_initializer instead.\n",
            "\n"
          ],
          "name": "stdout"
        }
      ]
    },
    {
      "cell_type": "markdown",
      "metadata": {
        "id": "4NfQQkuCEzwr",
        "colab_type": "text"
      },
      "source": [
        "**Below mentioned auxiliary output is for text component**"
      ]
    },
    {
      "cell_type": "code",
      "metadata": {
        "id": "ZXa_KEkirdYV",
        "colab_type": "code",
        "colab": {}
      },
      "source": [
        "aux_output = Dense(1, activation='sigmoid', name='aux_out')(titles_pooling)"
      ],
      "execution_count": 0,
      "outputs": []
    },
    {
      "cell_type": "markdown",
      "metadata": {
        "id": "HEZJZtOrGDLr",
        "colab_type": "text"
      },
      "source": [
        "**Meta branch**"
      ]
    },
    {
      "cell_type": "code",
      "metadata": {
        "id": "52fJ20vJrx2y",
        "colab_type": "code",
        "colab": {}
      },
      "source": [
        "meta_embedding_dims = 64\n",
        "\n",
        "hours_input = Input(shape=(1,), name='hours_input')\n",
        "hours_embedding = Embedding(24, meta_embedding_dims)(hours_input)\n",
        "hours_reshape = Reshape((meta_embedding_dims,))(hours_embedding)\n",
        "\n",
        "authors_input = Input(shape=(1,), name='authors_input')\n",
        "authors_embedding = Embedding(89838, meta_embedding_dims)(authors_input)\n",
        "authors_reshape = Reshape((meta_embedding_dims,))(authors_embedding)\n",
        "\n",
        "dayofweeks_input = Input(shape=(1,), name='dayofweeks_input')\n",
        "dayofweeks_embedding = Embedding(7, meta_embedding_dims)(dayofweeks_input)\n",
        "dayofweeks_reshape = Reshape((meta_embedding_dims,))(dayofweeks_embedding)\n",
        "\n",
        "minutes_input = Input(shape=(1,), name='minutes_input')\n",
        "minutes_embedding = Embedding(60, meta_embedding_dims)(minutes_input)\n",
        "minutes_reshape = Reshape((meta_embedding_dims,))(minutes_embedding)\n",
        "\n",
        "dayofyears_input = Input(shape=(1,), name='dayofyears_input')\n",
        "dayofyears_embedding = Embedding(366, meta_embedding_dims)(dayofyears_input)\n",
        "dayofyears_reshape = Reshape((meta_embedding_dims,))(dayofyears_embedding)"
      ],
      "execution_count": 0,
      "outputs": []
    },
    {
      "cell_type": "markdown",
      "metadata": {
        "id": "2aVPmdkjGPnM",
        "colab_type": "text"
      },
      "source": [
        "**Merging all the embedding layers after reshape has done**"
      ]
    },
    {
      "cell_type": "code",
      "metadata": {
        "id": "E3JirMEOdtD4",
        "colab_type": "code",
        "outputId": "af9bc641-00d5-47bb-de14-bc262dd4bc90",
        "colab": {
          "base_uri": "https://localhost:8080/",
          "height": 72
        }
      },
      "source": [
        "merged = concatenate([titles_pooling, hours_reshape, authors_reshape, dayofweeks_reshape, dayofyears_reshape])\n",
        "\n",
        "hidden_1 = Dense(256, activation='relu')(merged)\n",
        "hidden_1 = BatchNormalization()(hidden_1)\n",
        "\n",
        "main_output = Dense(1, activation='sigmoid', name='main_out')(hidden_1)\n",
        "\n"
      ],
      "execution_count": 0,
      "outputs": [
        {
          "output_type": "stream",
          "text": [
            "WARNING:tensorflow:From /usr/local/lib/python3.6/dist-packages/keras/backend/tensorflow_backend.py:148: The name tf.placeholder_with_default is deprecated. Please use tf.compat.v1.placeholder_with_default instead.\n",
            "\n"
          ],
          "name": "stdout"
        }
      ]
    },
    {
      "cell_type": "markdown",
      "metadata": {
        "id": "Lu5vzTc5Gct7",
        "colab_type": "text"
      },
      "source": [
        "**Compiling the model**"
      ]
    },
    {
      "cell_type": "code",
      "metadata": {
        "id": "yfHKHiIhy84k",
        "colab_type": "code",
        "outputId": "765af4ad-24f7-4af4-bd27-718a208a69e5",
        "colab": {
          "base_uri": "https://localhost:8080/",
          "height": 1000
        }
      },
      "source": [
        "model = Model(inputs=[titles_input,\n",
        "                      hours_input,authors_input,\n",
        "                      dayofweeks_input,\n",
        "                      dayofyears_input], outputs=[main_output, aux_output])\n",
        "\n",
        "\n",
        "#adam=optimizers.Adam(lr=0.01)\n",
        "model.compile(loss='binary_crossentropy',\n",
        "              optimizer='adam',\n",
        "              metrics=['accuracy'],\n",
        "              loss_weights=[1, 0.2])\n",
        "\n",
        "model.summary()"
      ],
      "execution_count": 0,
      "outputs": [
        {
          "output_type": "stream",
          "text": [
            "WARNING:tensorflow:From /usr/local/lib/python3.6/dist-packages/keras/optimizers.py:793: The name tf.train.Optimizer is deprecated. Please use tf.compat.v1.train.Optimizer instead.\n",
            "\n",
            "WARNING:tensorflow:From /usr/local/lib/python3.6/dist-packages/keras/backend/tensorflow_backend.py:3657: The name tf.log is deprecated. Please use tf.math.log instead.\n",
            "\n",
            "WARNING:tensorflow:From /usr/local/lib/python3.6/dist-packages/tensorflow_core/python/ops/nn_impl.py:183: where (from tensorflow.python.ops.array_ops) is deprecated and will be removed in a future version.\n",
            "Instructions for updating:\n",
            "Use tf.where in 2.0, which has the same broadcast rule as np.where\n",
            "Model: \"model_1\"\n",
            "__________________________________________________________________________________________________\n",
            "Layer (type)                    Output Shape         Param #     Connected to                     \n",
            "==================================================================================================\n",
            "titles_input (InputLayer)       (None, 63)           0                                            \n",
            "__________________________________________________________________________________________________\n",
            "hours_input (InputLayer)        (None, 1)            0                                            \n",
            "__________________________________________________________________________________________________\n",
            "authors_input (InputLayer)      (None, 1)            0                                            \n",
            "__________________________________________________________________________________________________\n",
            "dayofweeks_input (InputLayer)   (None, 1)            0                                            \n",
            "__________________________________________________________________________________________________\n",
            "dayofyears_input (InputLayer)   (None, 1)            0                                            \n",
            "__________________________________________________________________________________________________\n",
            "embedding_1 (Embedding)         (None, 63, 300)      34229400    titles_input[0][0]               \n",
            "__________________________________________________________________________________________________\n",
            "embedding_2 (Embedding)         (None, 1, 64)        1536        hours_input[0][0]                \n",
            "__________________________________________________________________________________________________\n",
            "embedding_3 (Embedding)         (None, 1, 64)        5749632     authors_input[0][0]              \n",
            "__________________________________________________________________________________________________\n",
            "embedding_4 (Embedding)         (None, 1, 64)        448         dayofweeks_input[0][0]           \n",
            "__________________________________________________________________________________________________\n",
            "embedding_6 (Embedding)         (None, 1, 64)        23424       dayofyears_input[0][0]           \n",
            "__________________________________________________________________________________________________\n",
            "global_average_pooling1d_1 (Glo (None, 300)          0           embedding_1[0][0]                \n",
            "__________________________________________________________________________________________________\n",
            "reshape_1 (Reshape)             (None, 64)           0           embedding_2[0][0]                \n",
            "__________________________________________________________________________________________________\n",
            "reshape_2 (Reshape)             (None, 64)           0           embedding_3[0][0]                \n",
            "__________________________________________________________________________________________________\n",
            "reshape_3 (Reshape)             (None, 64)           0           embedding_4[0][0]                \n",
            "__________________________________________________________________________________________________\n",
            "reshape_5 (Reshape)             (None, 64)           0           embedding_6[0][0]                \n",
            "__________________________________________________________________________________________________\n",
            "concatenate_1 (Concatenate)     (None, 556)          0           global_average_pooling1d_1[0][0] \n",
            "                                                                 reshape_1[0][0]                  \n",
            "                                                                 reshape_2[0][0]                  \n",
            "                                                                 reshape_3[0][0]                  \n",
            "                                                                 reshape_5[0][0]                  \n",
            "__________________________________________________________________________________________________\n",
            "dense_1 (Dense)                 (None, 256)          142592      concatenate_1[0][0]              \n",
            "__________________________________________________________________________________________________\n",
            "batch_normalization_1 (BatchNor (None, 256)          1024        dense_1[0][0]                    \n",
            "__________________________________________________________________________________________________\n",
            "main_out (Dense)                (None, 1)            257         batch_normalization_1[0][0]      \n",
            "__________________________________________________________________________________________________\n",
            "aux_out (Dense)                 (None, 1)            301         global_average_pooling1d_1[0][0] \n",
            "==================================================================================================\n",
            "Total params: 40,148,614\n",
            "Trainable params: 40,148,102\n",
            "Non-trainable params: 512\n",
            "__________________________________________________________________________________________________\n"
          ],
          "name": "stdout"
        }
      ]
    },
    {
      "cell_type": "markdown",
      "metadata": {
        "id": "iZWk0aM5GlXX",
        "colab_type": "text"
      },
      "source": [
        "**Splitting the data into validation and training**"
      ]
    },
    {
      "cell_type": "code",
      "metadata": {
        "id": "ne3FymIVzLru",
        "colab_type": "code",
        "colab": {}
      },
      "source": [
        "dayofyears=dayofyears-1\n",
        "seed(123)\n",
        "split = 0.2\n",
        "\n",
        "# returns randomized indices with no repeats\n",
        "idx = sample(range(data.shape[0]), data.shape[0])\n",
        "\n",
        "titles_tf = data[idx, :]\n",
        "hours = hours[idx]\n",
        "authors=authors[idx]\n",
        "dayofweeks = dayofweeks[idx]\n",
        "dayofyears = dayofyears[idx]\n",
        "is_top_submission = is_top_submission[idx]"
      ],
      "execution_count": 0,
      "outputs": []
    },
    {
      "cell_type": "code",
      "metadata": {
        "id": "CGKBBGIC1Tk5",
        "colab_type": "code",
        "colab": {}
      },
      "source": [
        "from keras.callbacks import CSVLogger\n",
        "csv_logger = CSVLogger('training.csv')"
      ],
      "execution_count": 0,
      "outputs": []
    },
    {
      "cell_type": "code",
      "metadata": {
        "id": "I4c0xbwf7rWv",
        "colab_type": "code",
        "colab": {}
      },
      "source": [
        "batch_size=512\n",
        "epochs=6"
      ],
      "execution_count": 0,
      "outputs": []
    },
    {
      "cell_type": "markdown",
      "metadata": {
        "id": "XJN4r9h0G8YA",
        "colab_type": "text"
      },
      "source": [
        "**Fitting the model**"
      ]
    },
    {
      "cell_type": "code",
      "metadata": {
        "id": "JsBhWBAV1YHi",
        "colab_type": "code",
        "outputId": "95d883aa-ace2-4f72-ca4a-11fa163fe83c",
        "colab": {
          "base_uri": "https://localhost:8080/",
          "height": 336
        }
      },
      "source": [
        "history=model.fit([titles_tf, hours,authors, dayofweeks, dayofyears], [is_top_submission, is_top_submission],\n",
        "          batch_size=batch_size,\n",
        "          epochs=epochs,\n",
        "          validation_split=split,\n",
        "          callbacks=[csv_logger])"
      ],
      "execution_count": 37,
      "outputs": [
        {
          "output_type": "stream",
          "text": [
            "WARNING:tensorflow:From /usr/local/lib/python3.6/dist-packages/keras/backend/tensorflow_backend.py:1033: The name tf.assign_add is deprecated. Please use tf.compat.v1.assign_add instead.\n",
            "\n",
            "WARNING:tensorflow:From /usr/local/lib/python3.6/dist-packages/keras/backend/tensorflow_backend.py:1020: The name tf.assign is deprecated. Please use tf.compat.v1.assign instead.\n",
            "\n",
            "Train on 407388 samples, validate on 101848 samples\n",
            "Epoch 1/6\n",
            "407388/407388 [==============================] - 408s 1ms/step - loss: 0.7468 - main_out_loss: 0.6167 - aux_out_loss: 0.6502 - main_out_acc: 0.6600 - aux_out_acc: 0.6299 - val_loss: 0.7316 - val_main_out_loss: 0.6034 - val_aux_out_loss: 0.6409 - val_main_out_acc: 0.6707 - val_aux_out_acc: 0.6373\n",
            "Epoch 2/6\n",
            "407388/407388 [==============================] - 407s 999us/step - loss: 0.6674 - main_out_loss: 0.5412 - aux_out_loss: 0.6307 - main_out_acc: 0.7234 - aux_out_acc: 0.6452 - val_loss: 0.7566 - val_main_out_loss: 0.6302 - val_aux_out_loss: 0.6321 - val_main_out_acc: 0.6577 - val_aux_out_acc: 0.6443\n",
            "Epoch 3/6\n",
            "407388/407388 [==============================] - 409s 1ms/step - loss: 0.5651 - main_out_loss: 0.4421 - aux_out_loss: 0.6153 - main_out_acc: 0.7846 - aux_out_acc: 0.6591 - val_loss: 0.8131 - val_main_out_loss: 0.6872 - val_aux_out_loss: 0.6292 - val_main_out_acc: 0.6448 - val_aux_out_acc: 0.6485\n",
            "Epoch 4/6\n",
            "407388/407388 [==============================] - 408s 1ms/step - loss: 0.4623 - main_out_loss: 0.3418 - aux_out_loss: 0.6024 - main_out_acc: 0.8400 - aux_out_acc: 0.6712 - val_loss: 0.9261 - val_main_out_loss: 0.7999 - val_aux_out_loss: 0.6307 - val_main_out_acc: 0.6420 - val_aux_out_acc: 0.6475\n",
            "Epoch 5/6\n",
            "407388/407388 [==============================] - 406s 996us/step - loss: 0.3781 - main_out_loss: 0.2598 - aux_out_loss: 0.5916 - main_out_acc: 0.8842 - aux_out_acc: 0.6814 - val_loss: 1.0636 - val_main_out_loss: 0.9371 - val_aux_out_loss: 0.6326 - val_main_out_acc: 0.6330 - val_aux_out_acc: 0.6476\n",
            "Epoch 6/6\n",
            "407388/407388 [==============================] - 406s 996us/step - loss: 0.3098 - main_out_loss: 0.1932 - aux_out_loss: 0.5831 - main_out_acc: 0.9175 - aux_out_acc: 0.6891 - val_loss: 1.2458 - val_main_out_loss: 1.1183 - val_aux_out_loss: 0.6376 - val_main_out_acc: 0.6316 - val_aux_out_acc: 0.6475\n"
          ],
          "name": "stdout"
        }
      ]
    },
    {
      "cell_type": "code",
      "metadata": {
        "id": "Qt-dlB9I7ESt",
        "colab_type": "code",
        "colab": {
          "base_uri": "https://localhost:8080/",
          "height": 233
        },
        "outputId": "1cdc2c34-0bea-4bc6-bb8e-a4a0a6d83231"
      },
      "source": [
        "hist = pd.DataFrame(history.history)\n",
        "hist"
      ],
      "execution_count": 41,
      "outputs": [
        {
          "output_type": "execute_result",
          "data": {
            "text/html": [
              "<div>\n",
              "<style scoped>\n",
              "    .dataframe tbody tr th:only-of-type {\n",
              "        vertical-align: middle;\n",
              "    }\n",
              "\n",
              "    .dataframe tbody tr th {\n",
              "        vertical-align: top;\n",
              "    }\n",
              "\n",
              "    .dataframe thead th {\n",
              "        text-align: right;\n",
              "    }\n",
              "</style>\n",
              "<table border=\"1\" class=\"dataframe\">\n",
              "  <thead>\n",
              "    <tr style=\"text-align: right;\">\n",
              "      <th></th>\n",
              "      <th>val_loss</th>\n",
              "      <th>val_main_out_loss</th>\n",
              "      <th>val_aux_out_loss</th>\n",
              "      <th>val_main_out_acc</th>\n",
              "      <th>val_aux_out_acc</th>\n",
              "      <th>loss</th>\n",
              "      <th>main_out_loss</th>\n",
              "      <th>aux_out_loss</th>\n",
              "      <th>main_out_acc</th>\n",
              "      <th>aux_out_acc</th>\n",
              "    </tr>\n",
              "  </thead>\n",
              "  <tbody>\n",
              "    <tr>\n",
              "      <th>0</th>\n",
              "      <td>0.731627</td>\n",
              "      <td>0.603448</td>\n",
              "      <td>0.640893</td>\n",
              "      <td>0.670745</td>\n",
              "      <td>0.637322</td>\n",
              "      <td>0.746776</td>\n",
              "      <td>0.616744</td>\n",
              "      <td>0.650160</td>\n",
              "      <td>0.659983</td>\n",
              "      <td>0.629857</td>\n",
              "    </tr>\n",
              "    <tr>\n",
              "      <th>1</th>\n",
              "      <td>0.756587</td>\n",
              "      <td>0.630172</td>\n",
              "      <td>0.632072</td>\n",
              "      <td>0.657715</td>\n",
              "      <td>0.644264</td>\n",
              "      <td>0.667375</td>\n",
              "      <td>0.541228</td>\n",
              "      <td>0.630738</td>\n",
              "      <td>0.723421</td>\n",
              "      <td>0.645245</td>\n",
              "    </tr>\n",
              "    <tr>\n",
              "      <th>2</th>\n",
              "      <td>0.813067</td>\n",
              "      <td>0.687221</td>\n",
              "      <td>0.629233</td>\n",
              "      <td>0.644824</td>\n",
              "      <td>0.648466</td>\n",
              "      <td>0.565110</td>\n",
              "      <td>0.442059</td>\n",
              "      <td>0.615256</td>\n",
              "      <td>0.784643</td>\n",
              "      <td>0.659096</td>\n",
              "    </tr>\n",
              "    <tr>\n",
              "      <th>3</th>\n",
              "      <td>0.926052</td>\n",
              "      <td>0.799906</td>\n",
              "      <td>0.630731</td>\n",
              "      <td>0.641976</td>\n",
              "      <td>0.647465</td>\n",
              "      <td>0.462289</td>\n",
              "      <td>0.341814</td>\n",
              "      <td>0.602375</td>\n",
              "      <td>0.839956</td>\n",
              "      <td>0.671164</td>\n",
              "    </tr>\n",
              "    <tr>\n",
              "      <th>4</th>\n",
              "      <td>1.063627</td>\n",
              "      <td>0.937100</td>\n",
              "      <td>0.632632</td>\n",
              "      <td>0.633032</td>\n",
              "      <td>0.647573</td>\n",
              "      <td>0.378072</td>\n",
              "      <td>0.259750</td>\n",
              "      <td>0.591611</td>\n",
              "      <td>0.884248</td>\n",
              "      <td>0.681409</td>\n",
              "    </tr>\n",
              "    <tr>\n",
              "      <th>5</th>\n",
              "      <td>1.245789</td>\n",
              "      <td>1.118268</td>\n",
              "      <td>0.637605</td>\n",
              "      <td>0.631618</td>\n",
              "      <td>0.647455</td>\n",
              "      <td>0.309821</td>\n",
              "      <td>0.193202</td>\n",
              "      <td>0.583094</td>\n",
              "      <td>0.917477</td>\n",
              "      <td>0.689132</td>\n",
              "    </tr>\n",
              "  </tbody>\n",
              "</table>\n",
              "</div>"
            ],
            "text/plain": [
              "   val_loss  val_main_out_loss  ...  main_out_acc  aux_out_acc\n",
              "0  0.731627           0.603448  ...      0.659983     0.629857\n",
              "1  0.756587           0.630172  ...      0.723421     0.645245\n",
              "2  0.813067           0.687221  ...      0.784643     0.659096\n",
              "3  0.926052           0.799906  ...      0.839956     0.671164\n",
              "4  1.063627           0.937100  ...      0.884248     0.681409\n",
              "5  1.245789           1.118268  ...      0.917477     0.689132\n",
              "\n",
              "[6 rows x 10 columns]"
            ]
          },
          "metadata": {
            "tags": []
          },
          "execution_count": 41
        }
      ]
    },
    {
      "cell_type": "code",
      "metadata": {
        "id": "DErhiSow4mcF",
        "colab_type": "code",
        "colab": {
          "base_uri": "https://localhost:8080/",
          "height": 549
        },
        "outputId": "ea5ca55c-1dd7-427e-aaa5-9551a534bfbf"
      },
      "source": [
        "hist = pd.DataFrame(history.history)\n",
        "hist['epoch'] = history.epoch\n",
        "def plot_history(history):\n",
        "    \n",
        "      hist = pd.DataFrame(history.history)\n",
        "      hist['epoch'] = history.epoch\n",
        "\n",
        "      plt.figure()\n",
        "      plt.xlabel('Epoch')\n",
        "      plt.ylabel('Accuracy')\n",
        "      plt.plot(hist['epoch'], hist['main_out_acc'],\n",
        "               label='Train Accuracy')\n",
        "      plt.plot(hist['epoch'], hist['val_main_out_acc'],\n",
        "               label = 'Val Accuracy')\n",
        "      plt.ylim([0,1])\n",
        "      plt.legend()\n",
        "\n",
        "      plt.figure()\n",
        "      plt.xlabel('Epoch')\n",
        "      plt.ylabel('loss')\n",
        "      plt.plot(hist['epoch'], hist['loss'],\n",
        "               label='Train Loss')\n",
        "      plt.plot(hist['epoch'], hist['val_loss'],\n",
        "               label = 'Val Loss')\n",
        "      plt.ylim([0,5])\n",
        "      plt.legend()\n",
        "\n",
        "      plt.show()\n",
        "plot_history(history)"
      ],
      "execution_count": 44,
      "outputs": [
        {
          "output_type": "display_data",
          "data": {
            "image/png": "[encoded data removed]",
            "text/plain": [
              "<Figure size 432x288 with 1 Axes>"
            ]
          },
          "metadata": {
            "tags": []
          }
        },
        {
          "output_type": "display_data",
          "data": {
            "image/png": "[encoded data removed]",
            "text/plain": [
              "<Figure size 432x288 with 1 Axes>"
            ]
          },
          "metadata": {
            "tags": []
          }
        }
      ]
    },
    {
      "cell_type": "code",
      "metadata": {
        "id": "ur4OidQw5Tl5",
        "colab_type": "code",
        "colab": {
          "base_uri": "https://localhost:8080/",
          "height": 549
        },
        "outputId": "7d46a55b-09da-4572-e9f6-f45b4eb237a1"
      },
      "source": [
        "hist = pd.DataFrame(history.history)\n",
        "hist['epoch'] = history.epoch\n",
        "def plot_history(history):\n",
        "    \n",
        "      hist = pd.DataFrame(history.history)\n",
        "      hist['epoch'] = history.epoch\n",
        "\n",
        "      plt.figure()\n",
        "      plt.xlabel('Epoch')\n",
        "      plt.ylabel('Accuracy')\n",
        "      plt.plot(hist['epoch'], hist['aux_out_acc'],\n",
        "               label='Train Accuracy')\n",
        "      plt.plot(hist['epoch'], hist['val_aux_out_acc'],\n",
        "               label = 'Val Accuracy')\n",
        "      plt.ylim([0,1])\n",
        "      plt.legend()\n",
        "\n",
        "      plt.figure()\n",
        "      plt.xlabel('Epoch')\n",
        "      plt.ylabel('loss')\n",
        "      plt.plot(hist['epoch'], hist['loss'],\n",
        "               label='Train Loss')\n",
        "      plt.plot(hist['epoch'], hist['val_loss'],\n",
        "               label = 'Val Loss')\n",
        "      plt.ylim([0,5])\n",
        "      plt.legend()\n",
        "\n",
        "      plt.show()\n",
        "plot_history(history)"
      ],
      "execution_count": 45,
      "outputs": [
        {
          "output_type": "display_data",
          "data": {
            "image/png": "[encoded data removed]",
            "text/plain": [
              "<Figure size 432x288 with 1 Axes>"
            ]
          },
          "metadata": {
            "tags": []
          }
        },
        {
          "output_type": "display_data",
          "data": {
            "image/png": "[encoded data removed]",
            "text/plain": [
              "<Figure size 432x288 with 1 Axes>"
            ]
          },
          "metadata": {
            "tags": []
          }
        }
      ]
    },
    {
      "cell_type": "markdown",
      "metadata": {
        "id": "PqQRlYNV6DTJ",
        "colab_type": "text"
      },
      "source": [
        "**Summary:**\n",
        "I have tried globalaveragepooling1D and by concatenating different other features by merging all these embedding layers and reshaping them to send into the dense layer. I have assigned 1 for all the values which are greater than 0.6 quantile and remaining as zero.whether to check it is \"top submission\" or not and have acheived main_output accuracy as (67.05) in validation which is higher than no information rate that is (61.85).I have tried by tuning different hyperparameter's and found out 0.01 as decent learning rate.\n",
        "\n",
        "Aux_out is by working just with text embedding layer and regularizing it to check predictions whereas main_out is considering all the features.\n",
        "\n",
        "Interesting things:\n",
        "->First, I thought of not to consider feature of \"author\" as the unique values are more than 80000 but later on when i have considered,I found out it is increasing the accuracy."
      ]
    },
    {
      "cell_type": "code",
      "metadata": {
        "id": "KLZsDVde83Ju",
        "colab_type": "code",
        "colab": {}
      },
      "source": [
        ""
      ],
      "execution_count": 0,
      "outputs": []
    }
  ]
}