{
  "nbformat": 4,
  "nbformat_minor": 0,
  "metadata": {
    "colab": {
      "name": "Eluvio_DS_challenge_text",
      "provenance": [],
      "collapsed_sections": []
    },
    "kernelspec": {
      "name": "python3",
      "display_name": "Python 3"
    }
  },
  "cells": [
    {
      "cell_type": "markdown",
      "metadata": {
        "id": "MfGg8dcs-vw0",
        "colab_type": "text"
      },
      "source": [
        "**Experimenting with RNN,LSTM,and GRU Models**"
      ]
    },
    {
      "cell_type": "code",
      "metadata": {
        "id": "20srkPGlZyRe",
        "colab_type": "code",
        "outputId": "20c1cb4c-39f7-47fb-ccc7-c8b5e9b46e3f",
        "colab": {
          "base_uri": "https://localhost:8080/",
          "height": 35
        }
      },
      "source": [
        "from google.colab import drive\n",
        "drive.mount('/content/drive')"
      ],
      "execution_count": 0,
      "outputs": [
        {
          "output_type": "stream",
          "text": [
            "Drive already mounted at /content/drive; to attempt to forcibly remount, call drive.mount(\"/content/drive\", force_remount=True).\n"
          ],
          "name": "stdout"
        }
      ]
    },
    {
      "cell_type": "code",
      "metadata": {
        "id": "Ek5IL3qaZ8ml",
        "colab_type": "code",
        "outputId": "1502431b-41d5-43a9-e881-da44fb521f8b",
        "colab": {
          "base_uri": "https://localhost:8080/",
          "height": 52
        }
      },
      "source": [
        "import numpy as np\n",
        "import pandas as pd\n",
        "from nltk.corpus import stopwords\n",
        "import string\n",
        "import nltk\n",
        "nltk.download('stopwords')\n",
        "from nltk.tokenize import RegexpTokenizer\n",
        "import re\n",
        "import pickle\n",
        "from random import random, sample, seed\n",
        "from sklearn.preprocessing import LabelEncoder\n",
        "import matplotlib.pyplot as plt\n",
        "from sklearn.model_selection import train_test_split\n"
      ],
      "execution_count": 0,
      "outputs": [
        {
          "output_type": "stream",
          "text": [
            "[nltk_data] Downloading package stopwords to /root/nltk_data...\n",
            "[nltk_data]   Package stopwords is already up-to-date!\n"
          ],
          "name": "stdout"
        }
      ]
    },
    {
      "cell_type": "code",
      "metadata": {
        "id": "EWt2lpW0aNxR",
        "colab_type": "code",
        "colab": {}
      },
      "source": [
        "file = \"drive/My Drive/Eluvio/Eluvio_DS_Challenge.csv\"\n",
        "df = pd.read_csv(file, sep = ',', parse_dates= ['date_created'],encoding='utf-8-sig') "
      ],
      "execution_count": 0,
      "outputs": []
    },
    {
      "cell_type": "code",
      "metadata": {
        "id": "C958PQ43aRLt",
        "colab_type": "code",
        "colab": {}
      },
      "source": [
        "threshold = np.quantile(df['up_votes'], 0.6)\n",
        "is_top_submission = [1 if i > threshold else 0 for i in df['up_votes']]\n",
        "is_top_submission = np.array(is_top_submission)"
      ],
      "execution_count": 0,
      "outputs": []
    },
    {
      "cell_type": "code",
      "metadata": {
        "id": "5Q1OogP8aWiY",
        "colab_type": "code",
        "outputId": "55615bc1-e3ea-4c94-ade0-ac1c0c407c1b",
        "colab": {
          "base_uri": "https://localhost:8080/",
          "height": 203
        }
      },
      "source": [
        "df.head()"
      ],
      "execution_count": 0,
      "outputs": [
        {
          "output_type": "execute_result",
          "data": {
            "text/html": [
              "<div>\n",
              "<style scoped>\n",
              "    .dataframe tbody tr th:only-of-type {\n",
              "        vertical-align: middle;\n",
              "    }\n",
              "\n",
              "    .dataframe tbody tr th {\n",
              "        vertical-align: top;\n",
              "    }\n",
              "\n",
              "    .dataframe thead th {\n",
              "        text-align: right;\n",
              "    }\n",
              "</style>\n",
              "<table border=\"1\" class=\"dataframe\">\n",
              "  <thead>\n",
              "    <tr style=\"text-align: right;\">\n",
              "      <th></th>\n",
              "      <th>time_created</th>\n",
              "      <th>date_created</th>\n",
              "      <th>up_votes</th>\n",
              "      <th>down_votes</th>\n",
              "      <th>title</th>\n",
              "      <th>over_18</th>\n",
              "      <th>author</th>\n",
              "      <th>category</th>\n",
              "    </tr>\n",
              "  </thead>\n",
              "  <tbody>\n",
              "    <tr>\n",
              "      <th>0</th>\n",
              "      <td>1201232046</td>\n",
              "      <td>2008-01-25</td>\n",
              "      <td>3</td>\n",
              "      <td>0</td>\n",
              "      <td>Scores killed in Pakistan clashes</td>\n",
              "      <td>False</td>\n",
              "      <td>polar</td>\n",
              "      <td>worldnews</td>\n",
              "    </tr>\n",
              "    <tr>\n",
              "      <th>1</th>\n",
              "      <td>1201232075</td>\n",
              "      <td>2008-01-25</td>\n",
              "      <td>2</td>\n",
              "      <td>0</td>\n",
              "      <td>Japan resumes refuelling mission</td>\n",
              "      <td>False</td>\n",
              "      <td>polar</td>\n",
              "      <td>worldnews</td>\n",
              "    </tr>\n",
              "    <tr>\n",
              "      <th>2</th>\n",
              "      <td>1201232523</td>\n",
              "      <td>2008-01-25</td>\n",
              "      <td>3</td>\n",
              "      <td>0</td>\n",
              "      <td>US presses Egypt on Gaza border</td>\n",
              "      <td>False</td>\n",
              "      <td>polar</td>\n",
              "      <td>worldnews</td>\n",
              "    </tr>\n",
              "    <tr>\n",
              "      <th>3</th>\n",
              "      <td>1201233290</td>\n",
              "      <td>2008-01-25</td>\n",
              "      <td>1</td>\n",
              "      <td>0</td>\n",
              "      <td>Jump-start economy: Give health care to all</td>\n",
              "      <td>False</td>\n",
              "      <td>fadi420</td>\n",
              "      <td>worldnews</td>\n",
              "    </tr>\n",
              "    <tr>\n",
              "      <th>4</th>\n",
              "      <td>1201274720</td>\n",
              "      <td>2008-01-25</td>\n",
              "      <td>4</td>\n",
              "      <td>0</td>\n",
              "      <td>Council of Europe bashes EU&amp;UN terror blacklist</td>\n",
              "      <td>False</td>\n",
              "      <td>mhermans</td>\n",
              "      <td>worldnews</td>\n",
              "    </tr>\n",
              "  </tbody>\n",
              "</table>\n",
              "</div>"
            ],
            "text/plain": [
              "   time_created date_created  up_votes  ...  over_18    author   category\n",
              "0    1201232046   2008-01-25         3  ...    False     polar  worldnews\n",
              "1    1201232075   2008-01-25         2  ...    False     polar  worldnews\n",
              "2    1201232523   2008-01-25         3  ...    False     polar  worldnews\n",
              "3    1201233290   2008-01-25         1  ...    False   fadi420  worldnews\n",
              "4    1201274720   2008-01-25         4  ...    False  mhermans  worldnews\n",
              "\n",
              "[5 rows x 8 columns]"
            ]
          },
          "metadata": {
            "tags": []
          },
          "execution_count": 28
        }
      ]
    },
    {
      "cell_type": "code",
      "metadata": {
        "id": "IIlf9fcVaZng",
        "colab_type": "code",
        "colab": {}
      },
      "source": [
        "def remove_punctuation(x):\n",
        "  no_punct=\"\".join([c for c in x if c not in string.punctuation])\n",
        "  return no_punct"
      ],
      "execution_count": 0,
      "outputs": []
    },
    {
      "cell_type": "code",
      "metadata": {
        "id": "kXRjLMBCadQW",
        "colab_type": "code",
        "colab": {}
      },
      "source": [
        "df['title']=df['title'].apply(lambda x:remove_punctuation(x))\n",
        "tokenizer=RegexpTokenizer(r'\\w+')\n",
        "df[\"title\"]=df[\"title\"].apply(lambda x:tokenizer.tokenize(x.lower()))"
      ],
      "execution_count": 0,
      "outputs": []
    },
    {
      "cell_type": "code",
      "metadata": {
        "id": "UsFhUzdwafn3",
        "colab_type": "code",
        "colab": {}
      },
      "source": [
        "listoftexts,listwords=[],[]\n",
        "for line in df['title']:\n",
        "        #exclude = set(string.punctuation)\n",
        "        #line = ''.join(ch for ch in line if ch not in exclude)\n",
        "        listwords=[]\n",
        "        for word in line:\n",
        "            listwords.append(word)\n",
        "        listoftexts.append(listwords)"
      ],
      "execution_count": 0,
      "outputs": []
    },
    {
      "cell_type": "code",
      "metadata": {
        "id": "hQeKIMD1ai57",
        "colab_type": "code",
        "outputId": "df66b0f8-6fb7-4154-cf9a-996d7d3366b8",
        "colab": {
          "base_uri": "https://localhost:8080/",
          "height": 35
        }
      },
      "source": [
        "from keras.preprocessing.text import Tokenizer\n",
        "from keras.preprocessing.sequence import pad_sequences\n",
        "\n",
        "tokenizer = Tokenizer()\n",
        "tokenizer.fit_on_texts(listoftexts)\n",
        "sequences = tokenizer.texts_to_sequences(listoftexts)\n",
        "\n",
        "word_index = tokenizer.word_index\n",
        "print('Found %s unique tokens.' % len(word_index))\n",
        "\n",
        "data = pad_sequences(sequences)"
      ],
      "execution_count": 0,
      "outputs": [
        {
          "output_type": "stream",
          "text": [
            "Found 114097 unique tokens.\n"
          ],
          "name": "stdout"
        }
      ]
    },
    {
      "cell_type": "code",
      "metadata": {
        "id": "SgngW1xeaqr-",
        "colab_type": "code",
        "outputId": "336dd14c-a5b1-4e35-88b8-6066ccd646d2",
        "colab": {
          "base_uri": "https://localhost:8080/",
          "height": 369
        }
      },
      "source": [
        "!wget http://nlp.stanford.edu/data/glove.6B.zip"
      ],
      "execution_count": 0,
      "outputs": [
        {
          "output_type": "stream",
          "text": [
            "--2020-02-29 19:27:40--  http://nlp.stanford.edu/data/glove.6B.zip\n",
            "Resolving nlp.stanford.edu (nlp.stanford.edu)... 171.64.67.140\n",
            "Connecting to nlp.stanford.edu (nlp.stanford.edu)|171.64.67.140|:80... connected.\n",
            "HTTP request sent, awaiting response... 302 Found\n",
            "Location: https://nlp.stanford.edu/data/glove.6B.zip [following]\n",
            "--2020-02-29 19:27:40--  https://nlp.stanford.edu/data/glove.6B.zip\n",
            "Connecting to nlp.stanford.edu (nlp.stanford.edu)|171.64.67.140|:443... connected.\n",
            "HTTP request sent, awaiting response... 301 Moved Permanently\n",
            "Location: http://downloads.cs.stanford.edu/nlp/data/glove.6B.zip [following]\n",
            "--2020-02-29 19:27:41--  http://downloads.cs.stanford.edu/nlp/data/glove.6B.zip\n",
            "Resolving downloads.cs.stanford.edu (downloads.cs.stanford.edu)... 171.64.64.22\n",
            "Connecting to downloads.cs.stanford.edu (downloads.cs.stanford.edu)|171.64.64.22|:80... connected.\n",
            "HTTP request sent, awaiting response... 200 OK\n",
            "Length: 862182613 (822M) [application/zip]\n",
            "Saving to: ‘glove.6B.zip’\n",
            "\n",
            "glove.6B.zip        100%[===================>] 822.24M  2.09MB/s    in 6m 26s  \n",
            "\n",
            "2020-02-29 19:34:07 (2.13 MB/s) - ‘glove.6B.zip’ saved [862182613/862182613]\n",
            "\n"
          ],
          "name": "stdout"
        }
      ]
    },
    {
      "cell_type": "code",
      "metadata": {
        "id": "U8WbpGCjazmw",
        "colab_type": "code",
        "outputId": "cc46ab8f-5968-4e0f-9671-80e84f1eb3fb",
        "colab": {
          "base_uri": "https://localhost:8080/",
          "height": 105
        }
      },
      "source": [
        "!unzip glove*.zip"
      ],
      "execution_count": 0,
      "outputs": [
        {
          "output_type": "stream",
          "text": [
            "Archive:  glove.6B.zip\n",
            "  inflating: glove.6B.50d.txt        \n",
            "  inflating: glove.6B.100d.txt       \n",
            "  inflating: glove.6B.200d.txt       \n",
            "  inflating: glove.6B.300d.txt       \n"
          ],
          "name": "stdout"
        }
      ]
    },
    {
      "cell_type": "code",
      "metadata": {
        "id": "KGbnOd_bcTqm",
        "colab_type": "code",
        "outputId": "d08eaa26-c82e-4aa3-93e5-6a4e55565054",
        "colab": {
          "base_uri": "https://localhost:8080/",
          "height": 35
        }
      },
      "source": [
        "embeddings_index = {}\n",
        "f = open(r'glove.6B.300d.txt',encoding='utf8')\n",
        "for line in f:\n",
        "    values = line.split()\n",
        "    word = values[0]\n",
        "    coefs = np.asarray(values[1:], dtype='float32')\n",
        "    embeddings_index[word] = coefs\n",
        "f.close()\n",
        "\n",
        "print('Found %s word vectors.' % len(embeddings_index))"
      ],
      "execution_count": 0,
      "outputs": [
        {
          "output_type": "stream",
          "text": [
            "Found 400000 word vectors.\n"
          ],
          "name": "stdout"
        }
      ]
    },
    {
      "cell_type": "code",
      "metadata": {
        "id": "nkdPOOBhcg3U",
        "colab_type": "code",
        "colab": {}
      },
      "source": [
        "embedding_matrix = np.zeros((len(word_index) + 1, 300))\n",
        "for word, i in word_index.items():\n",
        "    embedding_vector = embeddings_index.get(word)\n",
        "    if embedding_vector is not None:\n",
        "        # words not found in embedding index will be all-zeros.\n",
        "        embedding_matrix[i] = embedding_vector"
      ],
      "execution_count": 0,
      "outputs": []
    },
    {
      "cell_type": "code",
      "metadata": {
        "id": "BvuY4pjxcpLz",
        "colab_type": "code",
        "colab": {}
      },
      "source": [
        "pickle.dump({'embeddings_index' : embeddings_index} , open('sample_data/content', 'wb'))"
      ],
      "execution_count": 0,
      "outputs": []
    },
    {
      "cell_type": "code",
      "metadata": {
        "id": "Wcs0xWnldMFy",
        "colab_type": "code",
        "colab": {}
      },
      "source": [
        "from keras.layers import Embedding\n",
        "\n",
        "embedding_layer = Embedding(len(word_index) + 1,\n",
        "                            300,\n",
        "                            weights=[embedding_matrix],\n",
        "                            input_length=63,\n",
        "                            trainable=False,mask_zero=True)"
      ],
      "execution_count": 0,
      "outputs": []
    },
    {
      "cell_type": "code",
      "metadata": {
        "id": "cNe04WLjcrMv",
        "colab_type": "code",
        "colab": {}
      },
      "source": [
        "from keras.models import Sequential, Model\n",
        "from keras.layers import Embedding, SimpleRNN, Dense, Dropout, Activation,LSTM, GRU\n",
        "from keras import optimizers\n",
        "def RNN(wordvector_dim,embedding_matrix,sequence_length,learning_rate,hiddenUnits):\n",
        "    model=Sequential()\n",
        "    model.add(embedding_layer)\n",
        "    model.add(SimpleRNN(units=hiddenUnits,input_shape=[None,sequence_length],return_sequences=False))\n",
        "    model.add(Dense(1,activation='sigmoid'))\n",
        "    adam=optimizers.Adam(lr=learning_rate)\n",
        "    model.compile(loss='binary_crossentropy',optimizer=adam,metrics=['accuracy'])\n",
        "    print(model.summary())\n",
        "    return model"
      ],
      "execution_count": 0,
      "outputs": []
    },
    {
      "cell_type": "code",
      "metadata": {
        "id": "soCi-2q5c1If",
        "colab_type": "code",
        "colab": {}
      },
      "source": [
        "def LSTMfunction(wordvector_dim,embedding_matrix,sequence_length,learning_rate,hiddenUnits):\n",
        "    model=Sequential()\n",
        "    model.add(embedding_layer)\n",
        "    model.add(LSTM(units=hiddenUnits,input_shape=[None,sequence_length],return_sequences=False))\n",
        "    model.add(Dense(1,activation='sigmoid'))\n",
        "    adam=optimizers.Adam(lr=learning_rate)\n",
        "    model.compile(loss='binary_crossentropy',optimizer=adam,metrics=['accuracy'])\n",
        "    print(model.summary())\n",
        "    return model"
      ],
      "execution_count": 0,
      "outputs": []
    },
    {
      "cell_type": "code",
      "metadata": {
        "id": "azmyZIidc3q3",
        "colab_type": "code",
        "colab": {}
      },
      "source": [
        "def GRUfunction(wordvector_dim,embedding_matrix,sequence_length,learning_rate,hiddenUnits):\n",
        "    model=Sequential()\n",
        "    model.add(embedding_layer)\n",
        "    model.add(GRU(units=hiddenUnits,input_shape=[None,sequence_length],return_sequences=False))\n",
        "    model.add(Dense(1,activation='sigmoid'))\n",
        "    adam=optimizers.Adam(lr=learning_rate)\n",
        "    model.compile(loss='binary_crossentropy',optimizer=adam,metrics=['accuracy'])\n",
        "    print(model.summary())\n",
        "    return model"
      ],
      "execution_count": 0,
      "outputs": []
    },
    {
      "cell_type": "code",
      "metadata": {
        "id": "dTMe3vnSc58J",
        "colab_type": "code",
        "outputId": "ed4e6767-2ab1-414c-8174-9122e96925c1",
        "colab": {
          "base_uri": "https://localhost:8080/",
          "height": 281
        }
      },
      "source": [
        "RNN_model=RNN(wordvector_dim=300,embedding_matrix=embedding_matrix,sequence_length=50,learning_rate=0.001,hiddenUnits=100)"
      ],
      "execution_count": 0,
      "outputs": [
        {
          "output_type": "stream",
          "text": [
            "Model: \"sequential_3\"\n",
            "_________________________________________________________________\n",
            "Layer (type)                 Output Shape              Param #   \n",
            "=================================================================\n",
            "embedding_2 (Embedding)      (None, 63, 300)           34229400  \n",
            "_________________________________________________________________\n",
            "simple_rnn_2 (SimpleRNN)     (None, 100)               40100     \n",
            "_________________________________________________________________\n",
            "dense_2 (Dense)              (None, 1)                 101       \n",
            "=================================================================\n",
            "Total params: 34,269,601\n",
            "Trainable params: 40,201\n",
            "Non-trainable params: 34,229,400\n",
            "_________________________________________________________________\n",
            "None\n"
          ],
          "name": "stdout"
        }
      ]
    },
    {
      "cell_type": "code",
      "metadata": {
        "id": "cZstlyGAfbRh",
        "colab_type": "code",
        "colab": {}
      },
      "source": [
        "X_train, X_test, y_train, y_test = train_test_split(data, is_top_submission, test_size = 0.2, random_state = 143)"
      ],
      "execution_count": 0,
      "outputs": []
    },
    {
      "cell_type": "code",
      "metadata": {
        "id": "8AtYMq3_c-mr",
        "colab_type": "code",
        "outputId": "81bbf4c1-4b41-4f59-a71a-249e28a23222",
        "colab": {
          "base_uri": "https://localhost:8080/",
          "height": 301
        }
      },
      "source": [
        "history=RNN_model.fit(np.array(X_train),np.array(y_train),batch_size=512,epochs=5,validation_data=(np.array(X_test),np.array(y_test)))"
      ],
      "execution_count": 0,
      "outputs": [
        {
          "output_type": "stream",
          "text": [
            "WARNING:tensorflow:From /usr/local/lib/python3.6/dist-packages/keras/backend/tensorflow_backend.py:1033: The name tf.assign_add is deprecated. Please use tf.compat.v1.assign_add instead.\n",
            "\n",
            "WARNING:tensorflow:From /usr/local/lib/python3.6/dist-packages/keras/backend/tensorflow_backend.py:1020: The name tf.assign is deprecated. Please use tf.compat.v1.assign instead.\n",
            "\n",
            "Train on 407388 samples, validate on 101848 samples\n",
            "Epoch 1/5\n",
            "407388/407388 [==============================] - 255s 627us/step - loss: 0.6455 - acc: 0.6290 - val_loss: 0.6462 - val_acc: 0.6198\n",
            "Epoch 2/5\n",
            "407388/407388 [==============================] - 256s 628us/step - loss: 0.6372 - acc: 0.6374 - val_loss: 0.6392 - val_acc: 0.6385\n",
            "Epoch 3/5\n",
            "407388/407388 [==============================] - 254s 624us/step - loss: 0.6337 - acc: 0.6414 - val_loss: 0.6364 - val_acc: 0.6361\n",
            "Epoch 4/5\n",
            "407388/407388 [==============================] - 254s 624us/step - loss: 0.6318 - acc: 0.6422 - val_loss: 0.6340 - val_acc: 0.6390\n",
            "Epoch 5/5\n",
            "407388/407388 [==============================] - 254s 624us/step - loss: 0.6282 - acc: 0.6453 - val_loss: 0.6323 - val_acc: 0.6434\n"
          ],
          "name": "stdout"
        }
      ]
    },
    {
      "cell_type": "code",
      "metadata": {
        "id": "yrq22lQufz_O",
        "colab_type": "code",
        "outputId": "95d6e91d-8c74-4d8a-e429-fd5a20e76eb8",
        "colab": {
          "base_uri": "https://localhost:8080/",
          "height": 281
        }
      },
      "source": [
        "LSTM_model=LSTMfunction(wordvector_dim=300,embedding_matrix=embedding_matrix,sequence_length=50,learning_rate=0.001,hiddenUnits=100)"
      ],
      "execution_count": 0,
      "outputs": [
        {
          "output_type": "stream",
          "text": [
            "Model: \"sequential_4\"\n",
            "_________________________________________________________________\n",
            "Layer (type)                 Output Shape              Param #   \n",
            "=================================================================\n",
            "embedding_2 (Embedding)      (None, 63, 300)           34229400  \n",
            "_________________________________________________________________\n",
            "lstm_1 (LSTM)                (None, 100)               160400    \n",
            "_________________________________________________________________\n",
            "dense_3 (Dense)              (None, 1)                 101       \n",
            "=================================================================\n",
            "Total params: 34,389,901\n",
            "Trainable params: 160,501\n",
            "Non-trainable params: 34,229,400\n",
            "_________________________________________________________________\n",
            "None\n"
          ],
          "name": "stdout"
        }
      ]
    },
    {
      "cell_type": "code",
      "metadata": {
        "id": "Qi7hZTkflf-E",
        "colab_type": "code",
        "outputId": "ba15a2db-7ae6-49a8-ee5d-a03a33813f62",
        "colab": {
          "base_uri": "https://localhost:8080/",
          "height": 316
        }
      },
      "source": [
        "history=LSTM_model.fit(np.array(X_train),np.array(y_train),batch_size=512,epochs=8,validation_data=(np.array(X_test),np.array(y_test)))"
      ],
      "execution_count": 0,
      "outputs": [
        {
          "output_type": "stream",
          "text": [
            "Train on 407388 samples, validate on 101848 samples\n",
            "Epoch 1/8\n",
            "407388/407388 [==============================] - 781s 2ms/step - loss: 0.6375 - acc: 0.6387 - val_loss: 0.6305 - val_acc: 0.6475\n",
            "Epoch 2/8\n",
            "407388/407388 [==============================] - 773s 2ms/step - loss: 0.6246 - acc: 0.6507 - val_loss: 0.6242 - val_acc: 0.6517\n",
            "Epoch 3/8\n",
            "407388/407388 [==============================] - 780s 2ms/step - loss: 0.6170 - acc: 0.6581 - val_loss: 0.6222 - val_acc: 0.6552\n",
            "Epoch 4/8\n",
            "407388/407388 [==============================] - 772s 2ms/step - loss: 0.6087 - acc: 0.6651 - val_loss: 0.6244 - val_acc: 0.6529\n",
            "Epoch 5/8\n",
            "407388/407388 [==============================] - 783s 2ms/step - loss: 0.5992 - acc: 0.6729 - val_loss: 0.6258 - val_acc: 0.6506\n",
            "Epoch 6/8\n",
            "407388/407388 [==============================] - 773s 2ms/step - loss: 0.5889 - acc: 0.6818 - val_loss: 0.6303 - val_acc: 0.6506\n",
            "Epoch 7/8\n",
            "407388/407388 [==============================] - 780s 2ms/step - loss: 0.5774 - acc: 0.6909 - val_loss: 0.6405 - val_acc: 0.6434\n",
            "Epoch 8/8\n",
            "407388/407388 [==============================] - 775s 2ms/step - loss: 0.5658 - acc: 0.7005 - val_loss: 0.6481 - val_acc: 0.6423\n"
          ],
          "name": "stdout"
        }
      ]
    },
    {
      "cell_type": "code",
      "metadata": {
        "id": "E-Zle5dl-Fqt",
        "colab_type": "code",
        "outputId": "e4f09218-8bf9-4b1e-8a64-827d702f1c2a",
        "colab": {
          "base_uri": "https://localhost:8080/",
          "height": 549
        }
      },
      "source": [
        "def plot_history(history):\n",
        "    \n",
        "      hist = pd.DataFrame(history.history)\n",
        "      hist['epoch'] = history.epoch\n",
        "\n",
        "      plt.figure()\n",
        "      plt.xlabel('Epoch')\n",
        "      plt.ylabel('Accuracy')\n",
        "      plt.plot(hist['epoch'], hist['acc'],\n",
        "               label='Train Accuracy')\n",
        "      plt.plot(hist['epoch'], hist['val_acc'],\n",
        "               label = 'Val Accuracy')\n",
        "      plt.ylim([0,1])\n",
        "      plt.legend()\n",
        "\n",
        "      plt.figure()\n",
        "      plt.xlabel('Epoch')\n",
        "      plt.ylabel('loss')\n",
        "      plt.plot(hist['epoch'], hist['loss'],\n",
        "               label='Train Loss')\n",
        "      plt.plot(hist['epoch'], hist['val_loss'],\n",
        "               label = 'Val Loss')\n",
        "      plt.ylim([0,5])\n",
        "      plt.legend()\n",
        "\n",
        "      plt.show()\n",
        "plot_history(history)\n"
      ],
      "execution_count": 0,
      "outputs": [
        {
          "output_type": "display_data",
          "data": {
            "image/png": "[encoded data removed]",
            "text/plain": [
              "<Figure size 432x288 with 1 Axes>"
            ]
          },
          "metadata": {
            "tags": []
          }
        },
        {
          "output_type": "display_data",
          "data": {
            "image/png": "[encoded data removed]",
            "text/plain": [
              "<Figure size 432x288 with 1 Axes>"
            ]
          },
          "metadata": {
            "tags": []
          }
        }
      ]
    },
    {
      "cell_type": "code",
      "metadata": {
        "id": "M7LTNTbklqiA",
        "colab_type": "code",
        "outputId": "0d0b083b-9b4c-4396-ace5-e1f4e86f24a3",
        "colab": {
          "base_uri": "https://localhost:8080/",
          "height": 281
        }
      },
      "source": [
        "GRU_model=GRUfunction(wordvector_dim=300,embedding_matrix=embedding_matrix,sequence_length=50,learning_rate=0.001,hiddenUnits=100)"
      ],
      "execution_count": 0,
      "outputs": [
        {
          "output_type": "stream",
          "text": [
            "Model: \"sequential_5\"\n",
            "_________________________________________________________________\n",
            "Layer (type)                 Output Shape              Param #   \n",
            "=================================================================\n",
            "embedding_2 (Embedding)      (None, 63, 300)           34229400  \n",
            "_________________________________________________________________\n",
            "gru_1 (GRU)                  (None, 100)               120300    \n",
            "_________________________________________________________________\n",
            "dense_4 (Dense)              (None, 1)                 101       \n",
            "=================================================================\n",
            "Total params: 34,349,801\n",
            "Trainable params: 120,401\n",
            "Non-trainable params: 34,229,400\n",
            "_________________________________________________________________\n",
            "None\n"
          ],
          "name": "stdout"
        }
      ]
    },
    {
      "cell_type": "code",
      "metadata": {
        "id": "cvW8_SFo-ZgR",
        "colab_type": "code",
        "outputId": "7ba4baac-577c-4775-9d80-bd5d86ba10ba",
        "colab": {
          "base_uri": "https://localhost:8080/",
          "height": 211
        }
      },
      "source": [
        "history=GRU_model.fit(np.array(X_train),np.array(y_train),batch_size=512,epochs=5,validation_data=(np.array(X_test),np.array(y_test)))"
      ],
      "execution_count": 0,
      "outputs": [
        {
          "output_type": "stream",
          "text": [
            "Train on 407388 samples, validate on 101848 samples\n",
            "Epoch 1/5\n",
            "407388/407388 [==============================] - 598s 1ms/step - loss: 0.6390 - acc: 0.6372 - val_loss: 0.6287 - val_acc: 0.6488\n",
            "Epoch 2/5\n",
            "407388/407388 [==============================] - 599s 1ms/step - loss: 0.6244 - acc: 0.6512 - val_loss: 0.6241 - val_acc: 0.6534\n",
            "Epoch 3/5\n",
            "407388/407388 [==============================] - 594s 1ms/step - loss: 0.6165 - acc: 0.6584 - val_loss: 0.6289 - val_acc: 0.6483\n",
            "Epoch 4/5\n",
            "407388/407388 [==============================] - 603s 1ms/step - loss: 0.6088 - acc: 0.6660 - val_loss: 0.6233 - val_acc: 0.6533\n",
            "Epoch 5/5\n",
            "407388/407388 [==============================] - 597s 1ms/step - loss: 0.6002 - acc: 0.6736 - val_loss: 0.6258 - val_acc: 0.6519\n"
          ],
          "name": "stdout"
        }
      ]
    },
    {
      "cell_type": "markdown",
      "metadata": {
        "id": "8g9Hz8rC-9vh",
        "colab_type": "text"
      },
      "source": [
        "**Summary:** Got an better accuracy with LSTM network which is 65.52"
      ]
    }
  ]
}